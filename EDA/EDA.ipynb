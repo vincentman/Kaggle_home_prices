{
 "cells": [
  {
   "cell_type": "code",
   "execution_count": 1,
   "metadata": {},
   "outputs": [],
   "source": [
    "import pandas as pd\n",
    "import matplotlib.pyplot as plt\n",
    "import seaborn as sns\n",
    "import numpy as np \n",
    "%matplotlib inline"
   ]
  },
  {
   "cell_type": "code",
   "execution_count": 2,
   "metadata": {},
   "outputs": [
    {
     "data": {
      "text/plain": [
       "'D:\\\\machine_learn\\\\kaggle\\\\Kaggle_home_prices\\\\EDA'"
      ]
     },
     "execution_count": 2,
     "metadata": {},
     "output_type": "execute_result"
    }
   ],
   "source": [
    "import os\n",
    "os.getcwd()"
   ]
  },
  {
   "cell_type": "code",
   "execution_count": 6,
   "metadata": {},
   "outputs": [],
   "source": [
    "from common import process_data"
   ]
  },
  {
   "cell_type": "code",
   "execution_count": 7,
   "metadata": {},
   "outputs": [],
   "source": [
    "csv_df = pd.read_csv('train.csv')"
   ]
  },
  {
   "cell_type": "code",
   "execution_count": 8,
   "metadata": {},
   "outputs": [
    {
     "name": "stdout",
     "output_type": "stream",
     "text": [
      "Before processing missing value, sample count =>\n",
      "              null_count\n",
      "PoolQC              1453\n",
      "MiscFeature         1406\n",
      "Alley               1369\n",
      "Fence               1179\n",
      "FireplaceQu          690\n",
      "LotFrontage          259\n",
      "GarageType            81\n",
      "GarageYrBlt           81\n",
      "GarageFinish          81\n",
      "GarageQual            81\n",
      "GarageCond            81\n",
      "BsmtExposure          38\n",
      "BsmtFinType2          38\n",
      "BsmtFinType1          37\n",
      "BsmtCond              37\n",
      "BsmtQual              37\n",
      "MasVnrArea             8\n",
      "MasVnrType             8\n",
      "Electrical             1\n",
      "Before processing missing value, sample proportion =>\n",
      "              null_mean\n",
      "PoolQC         0.995205\n",
      "MiscFeature    0.963014\n",
      "Alley          0.937671\n",
      "Fence          0.807534\n",
      "FireplaceQu    0.472603\n",
      "LotFrontage    0.177397\n",
      "GarageType     0.055479\n",
      "GarageYrBlt    0.055479\n",
      "GarageFinish   0.055479\n",
      "GarageQual     0.055479\n",
      "GarageCond     0.055479\n",
      "BsmtExposure   0.026027\n",
      "BsmtFinType2   0.026027\n",
      "BsmtFinType1   0.025342\n",
      "BsmtCond       0.025342\n",
      "BsmtQual       0.025342\n",
      "MasVnrArea     0.005479\n",
      "MasVnrType     0.005479\n",
      "Electrical     0.000685\n"
     ]
    }
   ],
   "source": [
    "print(\n",
    "    'Before processing missing value, sample count =>\\n{}'.format(process_data.get_missing_value_sample_count(csv_df)))\n",
    "print(\n",
    "    'Before processing missing value, sample proportion =>\\n{}'.format(\n",
    "        process_data.get_missing_value_sample_proportion(csv_df)))"
   ]
  },
  {
   "cell_type": "code",
   "execution_count": 9,
   "metadata": {},
   "outputs": [
    {
     "data": {
      "image/png": "[encoded data removed]",
      "text/plain": [
       "<matplotlib.figure.Figure at 0x2039e49ccf8>"
      ]
     },
     "metadata": {},
     "output_type": "display_data"
    }
   ],
   "source": [
    "data = pd.concat([csv_df['SalePrice'], csv_df['FireplaceQu']], axis=1)\n",
    "f, ax = plt.subplots(figsize=(4, 6))\n",
    "fig = sns.boxplot(x='FireplaceQu', y=\"SalePrice\", data=data)\n",
    "fig.axis(ymin=0, ymax=800000);"
   ]
  },
  {
   "cell_type": "code",
   "execution_count": null,
   "metadata": {},
   "outputs": [],
   "source": []
  }
 ],
 "metadata": {
  "kernelspec": {
   "display_name": "Python 3",
   "language": "python",
   "name": "python3"
  },
  "language_info": {
   "codemirror_mode": {
    "name": "ipython",
    "version": 3
   },
   "file_extension": ".py",
   "mimetype": "text/x-python",
   "name": "python",
   "nbconvert_exporter": "python",
   "pygments_lexer": "ipython3",
   "version": "3.6.4"
  }
 },
 "nbformat": 4,
 "nbformat_minor": 2
}
